{
 "cells": [
  {
   "cell_type": "markdown",
   "metadata": {
    "pycharm": {
     "name": "#%% md\n"
    }
   },
   "source": [
    "# Route optimization of a historical sites with ORS and `ortools`\n",
    "> Note: All notebooks need the [environment dependencies](https://github.com/GIScience/openrouteservice-examples#local-installation)\n",
    "> as well as an [openrouteservice API key](https://openrouteservice.org/dev/#/signup) to run"
   ]
  },
  {
   "cell_type": "code",
   "execution_count": 1,
   "metadata": {
    "pycharm": {
     "name": "#%%\n"
    }
   },
   "outputs": [],
   "source": [
    "import folium"
   ]
  },
  {
   "cell_type": "code",
   "execution_count": 2,
   "metadata": {
    "pycharm": {
     "name": "#%%\n"
    }
   },
   "outputs": [],
   "source": [
    "api_key = 'API_KEY'\n",
    "aoi_centroid = (50.062208,19.936838)  # Kraków center for map center"
   ]
  },
  {
   "cell_type": "markdown",
   "metadata": {
    "pycharm": {
     "name": "#%% md\n"
    }
   },
   "source": [
    "Next, add the Kreuzberg polygon as marker to the map, so we get a bit of orientation."
   ]
  },
  {
   "cell_type": "code",
   "execution_count": 3,
   "metadata": {
    "pycharm": {
     "name": "#%%\n"
    }
   },
   "outputs": [
    {
     "data": {
      "text/plain": "<folium.folium.Map at 0x7f0fac4c6cb0>",
      "text/html": "<div style=\"width:100%;\"><div style=\"position:relative;width:100%;height:0;padding-bottom:60%;\"><span style=\"color:#565656\">Make this Notebook Trusted to load map: File -> Trust Notebook</span><iframe srcdoc=\"&lt;!DOCTYPE html&gt;\n&lt;head&gt;    \n    &lt;meta http-equiv=&quot;content-type&quot; content=&quot;text/html; charset=UTF-8&quot; /&gt;\n    \n        &lt;script&gt;\n            L_NO_TOUCH = false;\n            L_DISABLE_3D = false;\n        &lt;/script&gt;\n    \n    &lt;style&gt;html, body {width: 100%;height: 100%;margin: 0;padding: 0;}&lt;/style&gt;\n    &lt;style&gt;#map {position:absolute;top:0;bottom:0;right:0;left:0;}&lt;/style&gt;\n    &lt;script src=&quot;https://cdn.jsdelivr.net/npm/leaflet@1.6.0/dist/leaflet.js&quot;&gt;&lt;/script&gt;\n    &lt;script src=&quot;https://code.jquery.com/jquery-1.12.4.min.js&quot;&gt;&lt;/script&gt;\n    &lt;script src=&quot;https://maxcdn.bootstrapcdn.com/bootstrap/3.2.0/js/bootstrap.min.js&quot;&gt;&lt;/script&gt;\n    &lt;script src=&quot;https://cdnjs.cloudflare.com/ajax/libs/Leaflet.awesome-markers/2.0.2/leaflet.awesome-markers.js&quot;&gt;&lt;/script&gt;\n    &lt;link rel=&quot;stylesheet&quot; href=&quot;https://cdn.jsdelivr.net/npm/leaflet@1.6.0/dist/leaflet.css&quot;/&gt;\n    &lt;link rel=&quot;stylesheet&quot; href=&quot;https://maxcdn.bootstrapcdn.com/bootstrap/3.2.0/css/bootstrap.min.css&quot;/&gt;\n    &lt;link rel=&quot;stylesheet&quot; href=&quot;https://maxcdn.bootstrapcdn.com/bootstrap/3.2.0/css/bootstrap-theme.min.css&quot;/&gt;\n    &lt;link rel=&quot;stylesheet&quot; href=&quot;https://maxcdn.bootstrapcdn.com/font-awesome/4.6.3/css/font-awesome.min.css&quot;/&gt;\n    &lt;link rel=&quot;stylesheet&quot; href=&quot;https://cdnjs.cloudflare.com/ajax/libs/Leaflet.awesome-markers/2.0.2/leaflet.awesome-markers.css&quot;/&gt;\n    &lt;link rel=&quot;stylesheet&quot; href=&quot;https://cdn.jsdelivr.net/gh/python-visualization/folium/folium/templates/leaflet.awesome.rotate.min.css&quot;/&gt;\n    \n            &lt;meta name=&quot;viewport&quot; content=&quot;width=device-width,\n                initial-scale=1.0, maximum-scale=1.0, user-scalable=no&quot; /&gt;\n            &lt;style&gt;\n                #map_cd7fe15726f78b144b1a1a08b1ec5076 {\n                    position: relative;\n                    width: 100.0%;\n                    height: 100.0%;\n                    left: 0.0%;\n                    top: 0.0%;\n                }\n            &lt;/style&gt;\n        \n&lt;/head&gt;\n&lt;body&gt;    \n    \n            &lt;div class=&quot;folium-map&quot; id=&quot;map_cd7fe15726f78b144b1a1a08b1ec5076&quot; &gt;&lt;/div&gt;\n        \n&lt;/body&gt;\n&lt;script&gt;    \n    \n            var map_cd7fe15726f78b144b1a1a08b1ec5076 = L.map(\n                &quot;map_cd7fe15726f78b144b1a1a08b1ec5076&quot;,\n                {\n                    center: [50.062208, 19.936838],\n                    crs: L.CRS.EPSG3857,\n                    zoom: 16,\n                    zoomControl: true,\n                    preferCanvas: false,\n                }\n            );\n\n            \n\n        \n    \n            var tile_layer_5ca0761e682cdae7a71130f5bc43592f = L.tileLayer(\n                &quot;https://{s}.tile.openstreetmap.org/{z}/{x}/{y}.png&quot;,\n                {&quot;attribution&quot;: &quot;Data by \\u0026copy; \\u003ca href=\\&quot;http://openstreetmap.org\\&quot;\\u003eOpenStreetMap\\u003c/a\\u003e, under \\u003ca href=\\&quot;http://www.openstreetmap.org/copyright\\&quot;\\u003eODbL\\u003c/a\\u003e.&quot;, &quot;detectRetina&quot;: false, &quot;maxNativeZoom&quot;: 18, &quot;maxZoom&quot;: 18, &quot;minZoom&quot;: 0, &quot;noWrap&quot;: false, &quot;opacity&quot;: 1, &quot;subdomains&quot;: &quot;abc&quot;, &quot;tms&quot;: false}\n            ).addTo(map_cd7fe15726f78b144b1a1a08b1ec5076);\n        \n&lt;/script&gt;\" style=\"position:absolute;width:100%;height:100%;left:0;top:0;border:none !important;\" allowfullscreen webkitallowfullscreen mozallowfullscreen></iframe></div></div>"
     },
     "execution_count": 3,
     "metadata": {},
     "output_type": "execute_result"
    }
   ],
   "source": [
    "m = folium.Map(location=aoi_centroid, zoom_start=16)\n",
    "\n",
    "m"
   ]
  },
  {
   "cell_type": "markdown",
   "metadata": {
    "pycharm": {
     "name": "#%% md\n"
    }
   },
   "source": [
    "We use the [**Places API**](https://openrouteservice.org/dev/#/api-docs/pois),\n",
    "where we can pass a GeoJSON as object right into."
   ]
  },
  {
   "cell_type": "code",
   "execution_count": 4,
   "metadata": {
    "pycharm": {
     "name": "#%%\n"
    }
   },
   "outputs": [],
   "source": [
    "from openrouteservice import client, places\n",
    "\n",
    "ors = client.Client(key=api_key)"
   ]
  },
  {
   "cell_type": "markdown",
   "metadata": {
    "pycharm": {
     "name": "#%% md\n"
    }
   },
   "source": [
    "[**Here**](https://giscience.github.io/openrouteservice/documentation/Places.html) is a nicer list."
   ]
  },
  {
   "cell_type": "code",
   "execution_count": 5,
   "metadata": {
    "pycharm": {
     "name": "#%%\n"
    }
   },
   "outputs": [],
   "source": [
    "# bounding_box = [[19.960098266601562,50.04468336057252],[19.92568016052246,50.067828014342446]]\n",
    "# geo_json = {\"type\":\"Point\",\"coordinates\":[19.939756393432617,50.060830689417585]}\n",
    "#\n",
    "# geometr = {\n",
    "#\n",
    "# }\n",
    "# query = {'request': 'pois',\n",
    "#          'geojson': geo_json,\n",
    "#          'bbox': bounding_box,\n",
    "#          # 'filter_category_group_ids': [220, 330],\n",
    "#          # 'sortby': 'distance',\n",
    "#          'limit':10}\n",
    "# ors.places(**query)\n",
    "\n",
    "\n",
    "import requests\n",
    "import json\n",
    "\n",
    "body = {\"request\":\"pois\",\"geometry\":{\"buffer\":200,\"bbox\":[[19.960098266601562,50.04468336057252],[19.92568016052246,50.067828014342446]],\"geojson\":{\"type\":\"Point\",\"coordinates\":[19.939756393432617,50.060830689417585]}},\"limit\":10}\n",
    "\n",
    "headers = {\n",
    "    'Accept': 'application/json, application/geo+json, application/gpx+xml, img/png; charset=utf-8',\n",
    "    'Authorization': '5b3ce3597851110001cf6248f11c1c7ad0cc46a9ba5e768b7977ed3e',\n",
    "    'Content-Type': 'application/json; charset=utf-8'\n",
    "}\n",
    "call = requests.post('https://api.openrouteservice.org/pois', json=body, headers=headers)\n",
    "features = json.loads(call.text)"
   ]
  },
  {
   "cell_type": "code",
   "execution_count": 6,
   "outputs": [
    {
     "name": "stdout",
     "output_type": "stream",
     "text": [
      "\n",
      "Count of sites: 9\n"
     ]
    },
    {
     "data": {
      "text/plain": "[{'type': 'Feature',\n  'geometry': {'type': 'Point', 'coordinates': [19.937343, 50.061671]},\n  'properties': {'osm_id': 23256528,\n   'osm_type': 2,\n   'distance': 196.428883,\n   'category_ids': {'622': {'category_name': 'attraction',\n     'category_group': 'tourism'}},\n   'osm_tags': {'name': 'Sukiennice'}}},\n {'type': 'Feature',\n  'geometry': {'type': 'Point', 'coordinates': [19.939471, 50.06164]},\n  'properties': {'osm_id': 26195267,\n   'osm_type': 2,\n   'distance': 92.27702311,\n   'category_ids': {'622': {'category_name': 'attraction',\n     'category_group': 'tourism'},\n    '135': {'category_name': 'place_of_worship',\n     'category_group': 'arts_and_culture'}},\n   'osm_tags': {'name': 'Kościół pw. Wniebowzięcia Najświętszej Marii Panny',\n    'website': 'http://www.mariacki.com/',\n    'opening_hours': 'Mo-Sa 11:30-18:00; Su 14:00-18:00'}}},\n {'type': 'Feature',\n  'geometry': {'type': 'Point', 'coordinates': [19.937767, 50.060895]},\n  'properties': {'osm_id': 29271113,\n   'osm_type': 2,\n   'distance': 142.6371021,\n   'category_ids': {'622': {'category_name': 'attraction',\n     'category_group': 'tourism'},\n    '135': {'category_name': 'place_of_worship',\n     'category_group': 'arts_and_culture'}},\n   'osm_tags': {'opening_hours': 'Mo-Sa 09:00-17:00; Su 13:30-18:00',\n    'website': 'http://www.kosciolwojciecha.pl/',\n    'name': 'Kościół pw. Świętego Wojciecha Biskupa i Męczennika'}}},\n {'type': 'Feature',\n  'geometry': {'type': 'Point', 'coordinates': [19.942309, 50.060943]},\n  'properties': {'osm_id': 138326588,\n   'osm_type': 2,\n   'distance': 183.19630657,\n   'category_ids': {'108': {'category_name': 'hotel',\n     'category_group': 'accomodation'}},\n   'osm_tags': {'phone': '+48 12 431 90 30',\n    'website': 'http://www.donimirski.com/hotel-grodek',\n    'name': 'Hotel Gródek'}}},\n {'type': 'Feature',\n  'geometry': {'type': 'Point', 'coordinates': [19.939879, 50.061317]},\n  'properties': {'osm_id': 138365337,\n   'osm_type': 2,\n   'distance': 54.7913438,\n   'category_ids': {'622': {'category_name': 'attraction',\n     'category_group': 'tourism'},\n    '135': {'category_name': 'place_of_worship',\n     'category_group': 'arts_and_culture'}},\n   'osm_tags': {'name': 'Kościół pw. Świętej Barbary',\n    'website': 'http://www.swbarbara.jezuici.pl/'}}},\n {'type': 'Feature',\n  'geometry': {'type': 'Point', 'coordinates': [19.940842, 50.062467]},\n  'properties': {'osm_id': 138515650,\n   'osm_type': 2,\n   'distance': 197.89041476,\n   'category_ids': {'135': {'category_name': 'place_of_worship',\n     'category_group': 'arts_and_culture'}},\n   'osm_tags': {'name': 'Kościół pw. Świętego Tomasza Apostoła'}}},\n {'type': 'Feature',\n  'geometry': {'type': 'Point', 'coordinates': [19.939288, 50.061367]},\n  'properties': {'osm_id': 200770368,\n   'osm_type': 2,\n   'distance': 68.40578486,\n   'category_ids': {'237': {'category_name': 'memorial',\n     'category_group': 'historic'},\n    '623': {'category_name': 'fountain', 'category_group': 'tourism'}},\n   'osm_tags': {'name': 'Pomnik Żaka'}}},\n {'type': 'Feature',\n  'geometry': {'type': 'Point', 'coordinates': [19.939392, 50.059279]},\n  'properties': {'osm_id': 243432610,\n   'osm_type': 2,\n   'distance': 174.61535585,\n   'category_ids': {'135': {'category_name': 'place_of_worship',\n     'category_group': 'arts_and_culture'}},\n   'osm_tags': {'name': 'Kościół pw. Świętej Trójcy', 'wheelchair': 'yes'}}},\n {'type': 'Feature',\n  'geometry': {'type': 'Point', 'coordinates': [19.941798, 50.059678]},\n  'properties': {'osm_id': 274115139,\n   'osm_type': 1,\n   'distance': 194.49432361,\n   'category_ids': {'179': {'category_name': 'toilets',\n     'category_group': 'facilities'}},\n   'osm_tags': {'opening_hours': 'Mo-Su 07:00-22:30', 'fee': 'yes'}}}]"
     },
     "execution_count": 6,
     "metadata": {},
     "output_type": "execute_result"
    }
   ],
   "source": [
    "\n",
    "sites = features['features']  # Perform the actual request and get inner json\n",
    "\n",
    "print(\"\\nCount of sites: {}\".format(len(sites)))\n",
    "sites"
   ],
   "metadata": {
    "collapsed": false,
    "pycharm": {
     "name": "#%%\n"
    }
   }
  },
  {
   "cell_type": "code",
   "execution_count": 7,
   "metadata": {
    "scrolled": false,
    "pycharm": {
     "name": "#%%\n"
    }
   },
   "outputs": [
    {
     "data": {
      "text/plain": "<folium.folium.Map at 0x7f0fac4c6cb0>",
      "text/html": "<div style=\"width:100%;\"><div style=\"position:relative;width:100%;height:0;padding-bottom:60%;\"><span style=\"color:#565656\">Make this Notebook Trusted to load map: File -> Trust Notebook</span><iframe srcdoc=\"&lt;!DOCTYPE html&gt;\n&lt;head&gt;    \n    &lt;meta http-equiv=&quot;content-type&quot; content=&quot;text/html; charset=UTF-8&quot; /&gt;\n    \n        &lt;script&gt;\n            L_NO_TOUCH = false;\n            L_DISABLE_3D = false;\n        &lt;/script&gt;\n    \n    &lt;style&gt;html, body {width: 100%;height: 100%;margin: 0;padding: 0;}&lt;/style&gt;\n    &lt;style&gt;#map {position:absolute;top:0;bottom:0;right:0;left:0;}&lt;/style&gt;\n    &lt;script src=&quot;https://cdn.jsdelivr.net/npm/leaflet@1.6.0/dist/leaflet.js&quot;&gt;&lt;/script&gt;\n    &lt;script src=&quot;https://code.jquery.com/jquery-1.12.4.min.js&quot;&gt;&lt;/script&gt;\n    &lt;script src=&quot;https://maxcdn.bootstrapcdn.com/bootstrap/3.2.0/js/bootstrap.min.js&quot;&gt;&lt;/script&gt;\n    &lt;script src=&quot;https://cdnjs.cloudflare.com/ajax/libs/Leaflet.awesome-markers/2.0.2/leaflet.awesome-markers.js&quot;&gt;&lt;/script&gt;\n    &lt;link rel=&quot;stylesheet&quot; href=&quot;https://cdn.jsdelivr.net/npm/leaflet@1.6.0/dist/leaflet.css&quot;/&gt;\n    &lt;link rel=&quot;stylesheet&quot; href=&quot;https://maxcdn.bootstrapcdn.com/bootstrap/3.2.0/css/bootstrap.min.css&quot;/&gt;\n    &lt;link rel=&quot;stylesheet&quot; href=&quot;https://maxcdn.bootstrapcdn.com/bootstrap/3.2.0/css/bootstrap-theme.min.css&quot;/&gt;\n    &lt;link rel=&quot;stylesheet&quot; href=&quot;https://maxcdn.bootstrapcdn.com/font-awesome/4.6.3/css/font-awesome.min.css&quot;/&gt;\n    &lt;link rel=&quot;stylesheet&quot; href=&quot;https://cdnjs.cloudflare.com/ajax/libs/Leaflet.awesome-markers/2.0.2/leaflet.awesome-markers.css&quot;/&gt;\n    &lt;link rel=&quot;stylesheet&quot; href=&quot;https://cdn.jsdelivr.net/gh/python-visualization/folium/folium/templates/leaflet.awesome.rotate.min.css&quot;/&gt;\n    \n            &lt;meta name=&quot;viewport&quot; content=&quot;width=device-width,\n                initial-scale=1.0, maximum-scale=1.0, user-scalable=no&quot; /&gt;\n            &lt;style&gt;\n                #map_cd7fe15726f78b144b1a1a08b1ec5076 {\n                    position: relative;\n                    width: 100.0%;\n                    height: 100.0%;\n                    left: 0.0%;\n                    top: 0.0%;\n                }\n            &lt;/style&gt;\n        \n&lt;/head&gt;\n&lt;body&gt;    \n    \n            &lt;div class=&quot;folium-map&quot; id=&quot;map_cd7fe15726f78b144b1a1a08b1ec5076&quot; &gt;&lt;/div&gt;\n        \n&lt;/body&gt;\n&lt;script&gt;    \n    \n            var map_cd7fe15726f78b144b1a1a08b1ec5076 = L.map(\n                &quot;map_cd7fe15726f78b144b1a1a08b1ec5076&quot;,\n                {\n                    center: [50.062208, 19.936838],\n                    crs: L.CRS.EPSG3857,\n                    zoom: 16,\n                    zoomControl: true,\n                    preferCanvas: false,\n                }\n            );\n\n            \n\n        \n    \n            var tile_layer_5ca0761e682cdae7a71130f5bc43592f = L.tileLayer(\n                &quot;https://{s}.tile.openstreetmap.org/{z}/{x}/{y}.png&quot;,\n                {&quot;attribution&quot;: &quot;Data by \\u0026copy; \\u003ca href=\\&quot;http://openstreetmap.org\\&quot;\\u003eOpenStreetMap\\u003c/a\\u003e, under \\u003ca href=\\&quot;http://www.openstreetmap.org/copyright\\&quot;\\u003eODbL\\u003c/a\\u003e.&quot;, &quot;detectRetina&quot;: false, &quot;maxNativeZoom&quot;: 18, &quot;maxZoom&quot;: 18, &quot;minZoom&quot;: 0, &quot;noWrap&quot;: false, &quot;opacity&quot;: 1, &quot;subdomains&quot;: &quot;abc&quot;, &quot;tms&quot;: false}\n            ).addTo(map_cd7fe15726f78b144b1a1a08b1ec5076);\n        \n    \n            var marker_4dbdd8b11c93fbb3a84fa9bf012f1641 = L.marker(\n                [50.061671, 19.937343],\n                {}\n            ).addTo(map_cd7fe15726f78b144b1a1a08b1ec5076);\n        \n    \n        var popup_2343e62ba6634a7a74f40cc4a1bc1156 = L.popup({&quot;maxWidth&quot;: &quot;100%&quot;});\n\n        \n            var html_a30666c543793173438addd2859f574f = $(`&lt;div id=&quot;html_a30666c543793173438addd2859f574f&quot; style=&quot;width: 100.0%; height: 100.0%;&quot;&gt;&lt;strong&gt;Sukiennice&lt;/strong&gt;&lt;br&gt;Lat: 50.062&lt;br&gt;Long: 19.937&lt;/div&gt;`)[0];\n            popup_2343e62ba6634a7a74f40cc4a1bc1156.setContent(html_a30666c543793173438addd2859f574f);\n        \n\n        marker_4dbdd8b11c93fbb3a84fa9bf012f1641.bindPopup(popup_2343e62ba6634a7a74f40cc4a1bc1156)\n        ;\n\n        \n    \n    \n            var marker_b26f8893907253186c2933f527ad6ffa = L.marker(\n                [50.06164, 19.939471],\n                {}\n            ).addTo(map_cd7fe15726f78b144b1a1a08b1ec5076);\n        \n    \n        var popup_c6a9016c44e3003796d530a0de4c4125 = L.popup({&quot;maxWidth&quot;: &quot;100%&quot;});\n\n        \n            var html_e80ea46802ea58d4ae3a292013b802eb = $(`&lt;div id=&quot;html_e80ea46802ea58d4ae3a292013b802eb&quot; style=&quot;width: 100.0%; height: 100.0%;&quot;&gt;&lt;strong&gt;Kościół pw. Wniebowzięcia Najświętszej Marii Panny&lt;/strong&gt;&lt;br&gt;Lat: 50.062&lt;br&gt;Long: 19.939&lt;/div&gt;`)[0];\n            popup_c6a9016c44e3003796d530a0de4c4125.setContent(html_e80ea46802ea58d4ae3a292013b802eb);\n        \n\n        marker_b26f8893907253186c2933f527ad6ffa.bindPopup(popup_c6a9016c44e3003796d530a0de4c4125)\n        ;\n\n        \n    \n    \n            var marker_3a651262c5da6e35c4c978972c69b6e7 = L.marker(\n                [50.060895, 19.937767],\n                {}\n            ).addTo(map_cd7fe15726f78b144b1a1a08b1ec5076);\n        \n    \n        var popup_6c204d48ae9e1c7174ceff00eeea87d5 = L.popup({&quot;maxWidth&quot;: &quot;100%&quot;});\n\n        \n            var html_ed03c6113a2026edbc39d2dca6a9859c = $(`&lt;div id=&quot;html_ed03c6113a2026edbc39d2dca6a9859c&quot; style=&quot;width: 100.0%; height: 100.0%;&quot;&gt;&lt;strong&gt;Kościół pw. Świętego Wojciecha Biskupa i Męczennika&lt;/strong&gt;&lt;br&gt;Lat: 50.061&lt;br&gt;Long: 19.938&lt;/div&gt;`)[0];\n            popup_6c204d48ae9e1c7174ceff00eeea87d5.setContent(html_ed03c6113a2026edbc39d2dca6a9859c);\n        \n\n        marker_3a651262c5da6e35c4c978972c69b6e7.bindPopup(popup_6c204d48ae9e1c7174ceff00eeea87d5)\n        ;\n\n        \n    \n    \n            var marker_dd899bacc304650f1de67aa9d872c482 = L.marker(\n                [50.060943, 19.942309],\n                {}\n            ).addTo(map_cd7fe15726f78b144b1a1a08b1ec5076);\n        \n    \n        var popup_cd87877e1543d6a4b6adbfb450095810 = L.popup({&quot;maxWidth&quot;: &quot;100%&quot;});\n\n        \n            var html_b0d9141563ee8040f64978fedf49c8cb = $(`&lt;div id=&quot;html_b0d9141563ee8040f64978fedf49c8cb&quot; style=&quot;width: 100.0%; height: 100.0%;&quot;&gt;&lt;strong&gt;Hotel Gródek&lt;/strong&gt;&lt;br&gt;Lat: 50.061&lt;br&gt;Long: 19.942&lt;/div&gt;`)[0];\n            popup_cd87877e1543d6a4b6adbfb450095810.setContent(html_b0d9141563ee8040f64978fedf49c8cb);\n        \n\n        marker_dd899bacc304650f1de67aa9d872c482.bindPopup(popup_cd87877e1543d6a4b6adbfb450095810)\n        ;\n\n        \n    \n    \n            var marker_308735e4ff410ebb77deada4d260ba21 = L.marker(\n                [50.061317, 19.939879],\n                {}\n            ).addTo(map_cd7fe15726f78b144b1a1a08b1ec5076);\n        \n    \n        var popup_2155512767c45bd31e5690e0d28ad221 = L.popup({&quot;maxWidth&quot;: &quot;100%&quot;});\n\n        \n            var html_4b12a15de7da8a67aa53f3469c6b23b2 = $(`&lt;div id=&quot;html_4b12a15de7da8a67aa53f3469c6b23b2&quot; style=&quot;width: 100.0%; height: 100.0%;&quot;&gt;&lt;strong&gt;Kościół pw. Świętej Barbary&lt;/strong&gt;&lt;br&gt;Lat: 50.061&lt;br&gt;Long: 19.940&lt;/div&gt;`)[0];\n            popup_2155512767c45bd31e5690e0d28ad221.setContent(html_4b12a15de7da8a67aa53f3469c6b23b2);\n        \n\n        marker_308735e4ff410ebb77deada4d260ba21.bindPopup(popup_2155512767c45bd31e5690e0d28ad221)\n        ;\n\n        \n    \n    \n            var marker_cca931d473727f86ad6701e50b0bcf32 = L.marker(\n                [50.062467, 19.940842],\n                {}\n            ).addTo(map_cd7fe15726f78b144b1a1a08b1ec5076);\n        \n    \n        var popup_83d6a84facf3c405a99786fbff4b1675 = L.popup({&quot;maxWidth&quot;: &quot;100%&quot;});\n\n        \n            var html_bee6e3e3bfbcebb15dd98c55e07f3c5b = $(`&lt;div id=&quot;html_bee6e3e3bfbcebb15dd98c55e07f3c5b&quot; style=&quot;width: 100.0%; height: 100.0%;&quot;&gt;&lt;strong&gt;Kościół pw. Świętego Tomasza Apostoła&lt;/strong&gt;&lt;br&gt;Lat: 50.062&lt;br&gt;Long: 19.941&lt;/div&gt;`)[0];\n            popup_83d6a84facf3c405a99786fbff4b1675.setContent(html_bee6e3e3bfbcebb15dd98c55e07f3c5b);\n        \n\n        marker_cca931d473727f86ad6701e50b0bcf32.bindPopup(popup_83d6a84facf3c405a99786fbff4b1675)\n        ;\n\n        \n    \n    \n            var marker_5f54c65500a153dd0c15ac8b81a9797a = L.marker(\n                [50.061367, 19.939288],\n                {}\n            ).addTo(map_cd7fe15726f78b144b1a1a08b1ec5076);\n        \n    \n        var popup_709ddc93453db7a3e92b670004dc1592 = L.popup({&quot;maxWidth&quot;: &quot;100%&quot;});\n\n        \n            var html_4d16bb00bb7eb24bf9491075f8364fb6 = $(`&lt;div id=&quot;html_4d16bb00bb7eb24bf9491075f8364fb6&quot; style=&quot;width: 100.0%; height: 100.0%;&quot;&gt;&lt;strong&gt;Pomnik Żaka&lt;/strong&gt;&lt;br&gt;Lat: 50.061&lt;br&gt;Long: 19.939&lt;/div&gt;`)[0];\n            popup_709ddc93453db7a3e92b670004dc1592.setContent(html_4d16bb00bb7eb24bf9491075f8364fb6);\n        \n\n        marker_5f54c65500a153dd0c15ac8b81a9797a.bindPopup(popup_709ddc93453db7a3e92b670004dc1592)\n        ;\n\n        \n    \n    \n            var marker_783429a35a38616a7d8efb84eb57d3a1 = L.marker(\n                [50.059279, 19.939392],\n                {}\n            ).addTo(map_cd7fe15726f78b144b1a1a08b1ec5076);\n        \n    \n        var popup_fdeaaf2559a5f00a06c29a4a176b2ea2 = L.popup({&quot;maxWidth&quot;: &quot;100%&quot;});\n\n        \n            var html_a5d337d5e49c591bc8e95c9735f10853 = $(`&lt;div id=&quot;html_a5d337d5e49c591bc8e95c9735f10853&quot; style=&quot;width: 100.0%; height: 100.0%;&quot;&gt;&lt;strong&gt;Kościół pw. Świętej Trójcy&lt;/strong&gt;&lt;br&gt;Lat: 50.059&lt;br&gt;Long: 19.939&lt;/div&gt;`)[0];\n            popup_fdeaaf2559a5f00a06c29a4a176b2ea2.setContent(html_a5d337d5e49c591bc8e95c9735f10853);\n        \n\n        marker_783429a35a38616a7d8efb84eb57d3a1.bindPopup(popup_fdeaaf2559a5f00a06c29a4a176b2ea2)\n        ;\n\n        \n    \n    \n            var marker_2a59cd58254f7b56b918cb5a9408e7a2 = L.marker(\n                [50.059678, 19.941798],\n                {}\n            ).addTo(map_cd7fe15726f78b144b1a1a08b1ec5076);\n        \n    \n        var popup_338ef76d89f3aa99bf53e191f7a71021 = L.popup({&quot;maxWidth&quot;: &quot;100%&quot;});\n\n        \n            var html_5e6d1f1504c982bcb972b9efc5ecae0e = $(`&lt;div id=&quot;html_5e6d1f1504c982bcb972b9efc5ecae0e&quot; style=&quot;width: 100.0%; height: 100.0%;&quot;&gt;&lt;strong&gt;&lt;/strong&gt;&lt;br&gt;Lat: 50.060&lt;br&gt;Long: 19.942&lt;/div&gt;`)[0];\n            popup_338ef76d89f3aa99bf53e191f7a71021.setContent(html_5e6d1f1504c982bcb972b9efc5ecae0e);\n        \n\n        marker_2a59cd58254f7b56b918cb5a9408e7a2.bindPopup(popup_338ef76d89f3aa99bf53e191f7a71021)\n        ;\n\n        \n    \n&lt;/script&gt;\" style=\"position:absolute;width:100%;height:100%;left:0;top:0;border:none !important;\" allowfullscreen webkitallowfullscreen mozallowfullscreen></iframe></div></div>"
     },
     "execution_count": 7,
     "metadata": {},
     "output_type": "execute_result"
    }
   ],
   "source": [
    "sites_addresses = []\n",
    "\n",
    "for feat in sites:\n",
    "    lon, lat = feat['geometry']['coordinates']\n",
    "    name = feat['properties']['osm_tags']['name'] if 'name' in feat['properties']['osm_tags'] else ''\n",
    "    popup = \"<strong>{0}</strong><br>Lat: {1:.3f}<br>Long: {2:.3f}\".format(name, lat, lon)\n",
    "    icon = folium.map.Icon(color='lightgray',\n",
    "                           icon_color='#b5231a',\n",
    "                           icon='beer',  # fetches font-awesome.io symbols\n",
    "                           prefix='fa')\n",
    "    folium.map.Marker([lat, lon], popup=popup).add_to(m)\n",
    "    sites_addresses.append(name)\n",
    "\n",
    "# folium.map.LayerControl().add_to(m)\n",
    "m"
   ]
  },
  {
   "cell_type": "markdown",
   "metadata": {
    "pycharm": {
     "name": "#%% md\n"
    }
   },
   "source": [
    "Ok, we have an idea where we go.\n",
    "But, not in which order.\n",
    "To determine the optimal route, we first have to know the distance between all sites.\n",
    "We can conveniently solve this with the [**Matrix API**](https://openrouteservice.org/dev/#/api-docs/matrix).\n",
    "> I'd have like to do this example for biking/walking, but I realized too late that we restricted matrix calls to 5x5 locations for those profiles..."
   ]
  },
  {
   "cell_type": "code",
   "execution_count": 8,
   "metadata": {
    "pycharm": {
     "name": "#%%\n"
    }
   },
   "outputs": [
    {
     "name": "stdout",
     "output_type": "stream",
     "text": [
      "Calculated 9x9 routes.\n"
     ]
    }
   ],
   "source": [
    "from openrouteservice import distance_matrix\n",
    "\n",
    "sites_coords = [feat['geometry']['coordinates'] for feat in sites]\n",
    "\n",
    "request = {'locations': sites_coords,\n",
    "           'profile': 'foot-walking',\n",
    "           'metrics': ['duration']}\n",
    "\n",
    "sites_matrix = ors.distance_matrix(**request)\n",
    "print(\"Calculated {}x{} routes.\".format(len(sites_matrix['durations']), len(sites_matrix['durations'][0])))"
   ]
  },
  {
   "cell_type": "markdown",
   "metadata": {
    "pycharm": {
     "name": "#%% md\n"
    }
   },
   "source": [
    "Check, 26x26. So, we got the durations now in `sites_matrix['durations']`.\n",
    "Then there's finally the great entrance of [**ortools**](https://github.com/google/or-tools).\n",
    "\n",
    "Note, this is a local search."
   ]
  },
  {
   "cell_type": "code",
   "execution_count": 9,
   "metadata": {
    "scrolled": true,
    "pycharm": {
     "name": "#%%\n"
    }
   },
   "outputs": [
    {
     "name": "stdout",
     "output_type": "stream",
     "text": [
      "Total duration: 19.716666666666665 minutes\n",
      "\n",
      "Route:\n",
      "Sukiennice -> Kościół pw. Świętego Wojciecha Biskupa i Męczennika -> Kościół pw. Świętej Trójcy ->  -> Hotel Gródek -> Kościół pw. Świętego Tomasza Apostoła -> Kościół pw. Świętej Barbary -> Kościół pw. Wniebowzięcia Najświętszej Marii Panny -> Pomnik Żaka -> Sukiennice\n"
     ]
    }
   ],
   "source": [
    "from ortools.constraint_solver import pywrapcp\n",
    "\n",
    "tsp_size = len(sites_addresses)\n",
    "num_routes = 1\n",
    "start = 0  # arbitrary start location\n",
    "\n",
    "optimal_coords = []\n",
    "\n",
    "if tsp_size > 0:\n",
    "\n",
    "    # Old Stuff kept for reference\n",
    "    # routing = pywrapcp.RoutingModel(tsp_size, num_routes, start)\n",
    "\n",
    "    # New Way according to ortools v7.0 docs (https://developers.google.com/optimization/support/release_notes#announcing-the-release-of-or-tools-v70)\n",
    "    # manager = pywrapcp.RoutingIndexManager(num_locations, num_vehicles, depot)\n",
    "    # routing = pywrapcp.RoutingModel(manager)\n",
    "\n",
    "    # Adaption according to old and new way\n",
    "    manager = pywrapcp.RoutingIndexManager(tsp_size, num_routes, start)\n",
    "    routing = pywrapcp.RoutingModel(manager)\n",
    "\n",
    "\n",
    "    # Create the distance callback, which takes two arguments (the from and to node indices)\n",
    "    # and returns the distance between these nodes.\n",
    "    def distance_callback(from_index, to_index):\n",
    "        \"\"\"Returns the distance between the two nodes.\"\"\"\n",
    "        # Convert from routing variable Index to distance matrix NodeIndex.\n",
    "        from_node = manager.IndexToNode(from_index)\n",
    "        to_node = manager.IndexToNode(to_index)\n",
    "        return int(sites_matrix['durations'][from_node][to_node])\n",
    "\n",
    "\n",
    "    # Since v7.0, this also needs to be wrapped:\n",
    "    transit_callback_index = routing.RegisterTransitCallback(distance_callback)\n",
    "\n",
    "    routing.SetArcCostEvaluatorOfAllVehicles(transit_callback_index)\n",
    "    # Solve, returns a solution if any.\n",
    "    assignment = routing.Solve()\n",
    "    if assignment:\n",
    "        # Total cost of the 'optimal' solution.\n",
    "        print(\"Total duration: \" + str(round(assignment.ObjectiveValue(), 3) / 60) + \" minutes\\n\")\n",
    "        index = routing.Start(start)  # Index of the variable for the starting node.\n",
    "        route = ''\n",
    "        # while not routing.IsEnd(index):\n",
    "        for node in range(routing.nodes()):\n",
    "            # IndexToNode has been moved from the RoutingModel to the RoutingIndexManager\n",
    "            optimal_coords.append(sites_coords[manager.IndexToNode(index)])\n",
    "            route += str(sites_addresses[manager.IndexToNode(index)]) + ' -> '\n",
    "            index = assignment.Value(routing.NextVar(index))\n",
    "        route += str(sites_addresses[manager.IndexToNode(index)])\n",
    "        optimal_coords.append(sites_coords[manager.IndexToNode(index)])\n",
    "        print(\"Route:\\n\" + route)"
   ]
  },
  {
   "cell_type": "markdown",
   "metadata": {
    "pycharm": {
     "name": "#%% md\n"
    }
   },
   "source": [
    "Visualizing the optimal route"
   ]
  },
  {
   "cell_type": "code",
   "execution_count": 14,
   "metadata": {
    "scrolled": false,
    "pycharm": {
     "name": "#%%\n"
    }
   },
   "outputs": [
    {
     "data": {
      "text/plain": "<folium.folium.Map at 0x7f0fac4c6cb0>",
      "text/html": "<div style=\"width:100%;\"><div style=\"position:relative;width:100%;height:0;padding-bottom:60%;\"><span style=\"color:#565656\">Make this Notebook Trusted to load map: File -> Trust Notebook</span><iframe srcdoc=\"&lt;!DOCTYPE html&gt;\n&lt;head&gt;    \n    &lt;meta http-equiv=&quot;content-type&quot; content=&quot;text/html; charset=UTF-8&quot; /&gt;\n    \n        &lt;script&gt;\n            L_NO_TOUCH = false;\n            L_DISABLE_3D = false;\n        &lt;/script&gt;\n    \n    &lt;style&gt;html, body {width: 100%;height: 100%;margin: 0;padding: 0;}&lt;/style&gt;\n    &lt;style&gt;#map {position:absolute;top:0;bottom:0;right:0;left:0;}&lt;/style&gt;\n    &lt;script src=&quot;https://cdn.jsdelivr.net/npm/leaflet@1.6.0/dist/leaflet.js&quot;&gt;&lt;/script&gt;\n    &lt;script src=&quot;https://code.jquery.com/jquery-1.12.4.min.js&quot;&gt;&lt;/script&gt;\n    &lt;script src=&quot;https://maxcdn.bootstrapcdn.com/bootstrap/3.2.0/js/bootstrap.min.js&quot;&gt;&lt;/script&gt;\n    &lt;script src=&quot;https://cdnjs.cloudflare.com/ajax/libs/Leaflet.awesome-markers/2.0.2/leaflet.awesome-markers.js&quot;&gt;&lt;/script&gt;\n    &lt;link rel=&quot;stylesheet&quot; href=&quot;https://cdn.jsdelivr.net/npm/leaflet@1.6.0/dist/leaflet.css&quot;/&gt;\n    &lt;link rel=&quot;stylesheet&quot; href=&quot;https://maxcdn.bootstrapcdn.com/bootstrap/3.2.0/css/bootstrap.min.css&quot;/&gt;\n    &lt;link rel=&quot;stylesheet&quot; href=&quot;https://maxcdn.bootstrapcdn.com/bootstrap/3.2.0/css/bootstrap-theme.min.css&quot;/&gt;\n    &lt;link rel=&quot;stylesheet&quot; href=&quot;https://maxcdn.bootstrapcdn.com/font-awesome/4.6.3/css/font-awesome.min.css&quot;/&gt;\n    &lt;link rel=&quot;stylesheet&quot; href=&quot;https://cdnjs.cloudflare.com/ajax/libs/Leaflet.awesome-markers/2.0.2/leaflet.awesome-markers.css&quot;/&gt;\n    &lt;link rel=&quot;stylesheet&quot; href=&quot;https://cdn.jsdelivr.net/gh/python-visualization/folium/folium/templates/leaflet.awesome.rotate.min.css&quot;/&gt;\n    \n            &lt;meta name=&quot;viewport&quot; content=&quot;width=device-width,\n                initial-scale=1.0, maximum-scale=1.0, user-scalable=no&quot; /&gt;\n            &lt;style&gt;\n                #map_cd7fe15726f78b144b1a1a08b1ec5076 {\n                    position: relative;\n                    width: 100.0%;\n                    height: 100.0%;\n                    left: 0.0%;\n                    top: 0.0%;\n                }\n            &lt;/style&gt;\n        \n&lt;/head&gt;\n&lt;body&gt;    \n    \n            &lt;div class=&quot;folium-map&quot; id=&quot;map_cd7fe15726f78b144b1a1a08b1ec5076&quot; &gt;&lt;/div&gt;\n        \n&lt;/body&gt;\n&lt;script&gt;    \n    \n            var map_cd7fe15726f78b144b1a1a08b1ec5076 = L.map(\n                &quot;map_cd7fe15726f78b144b1a1a08b1ec5076&quot;,\n                {\n                    center: [50.062208, 19.936838],\n                    crs: L.CRS.EPSG3857,\n                    zoom: 16,\n                    zoomControl: true,\n                    preferCanvas: false,\n                }\n            );\n\n            \n\n        \n    \n            var tile_layer_5ca0761e682cdae7a71130f5bc43592f = L.tileLayer(\n                &quot;https://{s}.tile.openstreetmap.org/{z}/{x}/{y}.png&quot;,\n                {&quot;attribution&quot;: &quot;Data by \\u0026copy; \\u003ca href=\\&quot;http://openstreetmap.org\\&quot;\\u003eOpenStreetMap\\u003c/a\\u003e, under \\u003ca href=\\&quot;http://www.openstreetmap.org/copyright\\&quot;\\u003eODbL\\u003c/a\\u003e.&quot;, &quot;detectRetina&quot;: false, &quot;maxNativeZoom&quot;: 18, &quot;maxZoom&quot;: 18, &quot;minZoom&quot;: 0, &quot;noWrap&quot;: false, &quot;opacity&quot;: 1, &quot;subdomains&quot;: &quot;abc&quot;, &quot;tms&quot;: false}\n            ).addTo(map_cd7fe15726f78b144b1a1a08b1ec5076);\n        \n    \n            var marker_4dbdd8b11c93fbb3a84fa9bf012f1641 = L.marker(\n                [50.061671, 19.937343],\n                {}\n            ).addTo(map_cd7fe15726f78b144b1a1a08b1ec5076);\n        \n    \n        var popup_2343e62ba6634a7a74f40cc4a1bc1156 = L.popup({&quot;maxWidth&quot;: &quot;100%&quot;});\n\n        \n            var html_a30666c543793173438addd2859f574f = $(`&lt;div id=&quot;html_a30666c543793173438addd2859f574f&quot; style=&quot;width: 100.0%; height: 100.0%;&quot;&gt;&lt;strong&gt;Sukiennice&lt;/strong&gt;&lt;br&gt;Lat: 50.062&lt;br&gt;Long: 19.937&lt;/div&gt;`)[0];\n            popup_2343e62ba6634a7a74f40cc4a1bc1156.setContent(html_a30666c543793173438addd2859f574f);\n        \n\n        marker_4dbdd8b11c93fbb3a84fa9bf012f1641.bindPopup(popup_2343e62ba6634a7a74f40cc4a1bc1156)\n        ;\n\n        \n    \n    \n            var marker_b26f8893907253186c2933f527ad6ffa = L.marker(\n                [50.06164, 19.939471],\n                {}\n            ).addTo(map_cd7fe15726f78b144b1a1a08b1ec5076);\n        \n    \n        var popup_c6a9016c44e3003796d530a0de4c4125 = L.popup({&quot;maxWidth&quot;: &quot;100%&quot;});\n\n        \n            var html_e80ea46802ea58d4ae3a292013b802eb = $(`&lt;div id=&quot;html_e80ea46802ea58d4ae3a292013b802eb&quot; style=&quot;width: 100.0%; height: 100.0%;&quot;&gt;&lt;strong&gt;Kościół pw. Wniebowzięcia Najświętszej Marii Panny&lt;/strong&gt;&lt;br&gt;Lat: 50.062&lt;br&gt;Long: 19.939&lt;/div&gt;`)[0];\n            popup_c6a9016c44e3003796d530a0de4c4125.setContent(html_e80ea46802ea58d4ae3a292013b802eb);\n        \n\n        marker_b26f8893907253186c2933f527ad6ffa.bindPopup(popup_c6a9016c44e3003796d530a0de4c4125)\n        ;\n\n        \n    \n    \n            var marker_3a651262c5da6e35c4c978972c69b6e7 = L.marker(\n                [50.060895, 19.937767],\n                {}\n            ).addTo(map_cd7fe15726f78b144b1a1a08b1ec5076);\n        \n    \n        var popup_6c204d48ae9e1c7174ceff00eeea87d5 = L.popup({&quot;maxWidth&quot;: &quot;100%&quot;});\n\n        \n            var html_ed03c6113a2026edbc39d2dca6a9859c = $(`&lt;div id=&quot;html_ed03c6113a2026edbc39d2dca6a9859c&quot; style=&quot;width: 100.0%; height: 100.0%;&quot;&gt;&lt;strong&gt;Kościół pw. Świętego Wojciecha Biskupa i Męczennika&lt;/strong&gt;&lt;br&gt;Lat: 50.061&lt;br&gt;Long: 19.938&lt;/div&gt;`)[0];\n            popup_6c204d48ae9e1c7174ceff00eeea87d5.setContent(html_ed03c6113a2026edbc39d2dca6a9859c);\n        \n\n        marker_3a651262c5da6e35c4c978972c69b6e7.bindPopup(popup_6c204d48ae9e1c7174ceff00eeea87d5)\n        ;\n\n        \n    \n    \n            var marker_dd899bacc304650f1de67aa9d872c482 = L.marker(\n                [50.060943, 19.942309],\n                {}\n            ).addTo(map_cd7fe15726f78b144b1a1a08b1ec5076);\n        \n    \n        var popup_cd87877e1543d6a4b6adbfb450095810 = L.popup({&quot;maxWidth&quot;: &quot;100%&quot;});\n\n        \n            var html_b0d9141563ee8040f64978fedf49c8cb = $(`&lt;div id=&quot;html_b0d9141563ee8040f64978fedf49c8cb&quot; style=&quot;width: 100.0%; height: 100.0%;&quot;&gt;&lt;strong&gt;Hotel Gródek&lt;/strong&gt;&lt;br&gt;Lat: 50.061&lt;br&gt;Long: 19.942&lt;/div&gt;`)[0];\n            popup_cd87877e1543d6a4b6adbfb450095810.setContent(html_b0d9141563ee8040f64978fedf49c8cb);\n        \n\n        marker_dd899bacc304650f1de67aa9d872c482.bindPopup(popup_cd87877e1543d6a4b6adbfb450095810)\n        ;\n\n        \n    \n    \n            var marker_308735e4ff410ebb77deada4d260ba21 = L.marker(\n                [50.061317, 19.939879],\n                {}\n            ).addTo(map_cd7fe15726f78b144b1a1a08b1ec5076);\n        \n    \n        var popup_2155512767c45bd31e5690e0d28ad221 = L.popup({&quot;maxWidth&quot;: &quot;100%&quot;});\n\n        \n            var html_4b12a15de7da8a67aa53f3469c6b23b2 = $(`&lt;div id=&quot;html_4b12a15de7da8a67aa53f3469c6b23b2&quot; style=&quot;width: 100.0%; height: 100.0%;&quot;&gt;&lt;strong&gt;Kościół pw. Świętej Barbary&lt;/strong&gt;&lt;br&gt;Lat: 50.061&lt;br&gt;Long: 19.940&lt;/div&gt;`)[0];\n            popup_2155512767c45bd31e5690e0d28ad221.setContent(html_4b12a15de7da8a67aa53f3469c6b23b2);\n        \n\n        marker_308735e4ff410ebb77deada4d260ba21.bindPopup(popup_2155512767c45bd31e5690e0d28ad221)\n        ;\n\n        \n    \n    \n            var marker_cca931d473727f86ad6701e50b0bcf32 = L.marker(\n                [50.062467, 19.940842],\n                {}\n            ).addTo(map_cd7fe15726f78b144b1a1a08b1ec5076);\n        \n    \n        var popup_83d6a84facf3c405a99786fbff4b1675 = L.popup({&quot;maxWidth&quot;: &quot;100%&quot;});\n\n        \n            var html_bee6e3e3bfbcebb15dd98c55e07f3c5b = $(`&lt;div id=&quot;html_bee6e3e3bfbcebb15dd98c55e07f3c5b&quot; style=&quot;width: 100.0%; height: 100.0%;&quot;&gt;&lt;strong&gt;Kościół pw. Świętego Tomasza Apostoła&lt;/strong&gt;&lt;br&gt;Lat: 50.062&lt;br&gt;Long: 19.941&lt;/div&gt;`)[0];\n            popup_83d6a84facf3c405a99786fbff4b1675.setContent(html_bee6e3e3bfbcebb15dd98c55e07f3c5b);\n        \n\n        marker_cca931d473727f86ad6701e50b0bcf32.bindPopup(popup_83d6a84facf3c405a99786fbff4b1675)\n        ;\n\n        \n    \n    \n            var marker_5f54c65500a153dd0c15ac8b81a9797a = L.marker(\n                [50.061367, 19.939288],\n                {}\n            ).addTo(map_cd7fe15726f78b144b1a1a08b1ec5076);\n        \n    \n        var popup_709ddc93453db7a3e92b670004dc1592 = L.popup({&quot;maxWidth&quot;: &quot;100%&quot;});\n\n        \n            var html_4d16bb00bb7eb24bf9491075f8364fb6 = $(`&lt;div id=&quot;html_4d16bb00bb7eb24bf9491075f8364fb6&quot; style=&quot;width: 100.0%; height: 100.0%;&quot;&gt;&lt;strong&gt;Pomnik Żaka&lt;/strong&gt;&lt;br&gt;Lat: 50.061&lt;br&gt;Long: 19.939&lt;/div&gt;`)[0];\n            popup_709ddc93453db7a3e92b670004dc1592.setContent(html_4d16bb00bb7eb24bf9491075f8364fb6);\n        \n\n        marker_5f54c65500a153dd0c15ac8b81a9797a.bindPopup(popup_709ddc93453db7a3e92b670004dc1592)\n        ;\n\n        \n    \n    \n            var marker_783429a35a38616a7d8efb84eb57d3a1 = L.marker(\n                [50.059279, 19.939392],\n                {}\n            ).addTo(map_cd7fe15726f78b144b1a1a08b1ec5076);\n        \n    \n        var popup_fdeaaf2559a5f00a06c29a4a176b2ea2 = L.popup({&quot;maxWidth&quot;: &quot;100%&quot;});\n\n        \n            var html_a5d337d5e49c591bc8e95c9735f10853 = $(`&lt;div id=&quot;html_a5d337d5e49c591bc8e95c9735f10853&quot; style=&quot;width: 100.0%; height: 100.0%;&quot;&gt;&lt;strong&gt;Kościół pw. Świętej Trójcy&lt;/strong&gt;&lt;br&gt;Lat: 50.059&lt;br&gt;Long: 19.939&lt;/div&gt;`)[0];\n            popup_fdeaaf2559a5f00a06c29a4a176b2ea2.setContent(html_a5d337d5e49c591bc8e95c9735f10853);\n        \n\n        marker_783429a35a38616a7d8efb84eb57d3a1.bindPopup(popup_fdeaaf2559a5f00a06c29a4a176b2ea2)\n        ;\n\n        \n    \n    \n            var marker_2a59cd58254f7b56b918cb5a9408e7a2 = L.marker(\n                [50.059678, 19.941798],\n                {}\n            ).addTo(map_cd7fe15726f78b144b1a1a08b1ec5076);\n        \n    \n        var popup_338ef76d89f3aa99bf53e191f7a71021 = L.popup({&quot;maxWidth&quot;: &quot;100%&quot;});\n\n        \n            var html_5e6d1f1504c982bcb972b9efc5ecae0e = $(`&lt;div id=&quot;html_5e6d1f1504c982bcb972b9efc5ecae0e&quot; style=&quot;width: 100.0%; height: 100.0%;&quot;&gt;&lt;strong&gt;&lt;/strong&gt;&lt;br&gt;Lat: 50.060&lt;br&gt;Long: 19.942&lt;/div&gt;`)[0];\n            popup_338ef76d89f3aa99bf53e191f7a71021.setContent(html_5e6d1f1504c982bcb972b9efc5ecae0e);\n        \n\n        marker_2a59cd58254f7b56b918cb5a9408e7a2.bindPopup(popup_338ef76d89f3aa99bf53e191f7a71021)\n        ;\n\n        \n    \n    \n        function geo_json_8fe51fad89d55a9419082021a1282cb1_styler(feature) {\n            switch(feature.id) {\n                default:\n                    return {&quot;color&quot;: &quot;#27ce49&quot;, &quot;opacity&quot;: 1, &quot;weight&quot;: 5};\n            }\n        }\n\n        function geo_json_8fe51fad89d55a9419082021a1282cb1_onEachFeature(feature, layer) {\n            layer.on({\n            });\n        };\n        var geo_json_8fe51fad89d55a9419082021a1282cb1 = L.geoJson(null, {\n                onEachFeature: geo_json_8fe51fad89d55a9419082021a1282cb1_onEachFeature,\n            \n                style: geo_json_8fe51fad89d55a9419082021a1282cb1_styler,\n        });\n\n        function geo_json_8fe51fad89d55a9419082021a1282cb1_add (data) {\n            geo_json_8fe51fad89d55a9419082021a1282cb1\n                .addData(data)\n                .addTo(map_cd7fe15726f78b144b1a1a08b1ec5076);\n        }\n            geo_json_8fe51fad89d55a9419082021a1282cb1_add({&quot;bbox&quot;: [19.937336, 50.05902, 19.942506, 50.062518], &quot;features&quot;: [{&quot;bbox&quot;: [19.937336, 50.05902, 19.942506, 50.062518], &quot;geometry&quot;: {&quot;coordinates&quot;: [[19.937336, 50.061673], [19.937352, 50.061692], [19.937573, 50.061615], [19.937859, 50.061434], [19.938313, 50.061293], [19.937937, 50.060837], [19.93791, 50.060805], [19.937874, 50.06076], [19.937804, 50.060673], [19.937776, 50.060642], [19.937685, 50.060628], [19.937642, 50.060633], [19.937685, 50.060162], [19.93769, 50.060129], [19.937698, 50.060082], [19.937705, 50.060039], [19.937723, 50.059923], [19.93773, 50.059883], [19.937744, 50.059791], [19.937747, 50.059775], [19.937754, 50.059727], [19.937768, 50.059645], [19.937779, 50.059575], [19.937808, 50.05939], [19.937811, 50.05937], [19.937835, 50.059217], [19.937844, 50.059155], [19.937849, 50.059123], [19.938013, 50.05912], [19.938309, 50.059115], [19.938705, 50.059102], [19.939368, 50.05907], [19.939726, 50.059053], [19.940415, 50.05902], [19.940437, 50.059062], [19.940466, 50.059107], [19.941151, 50.059235], [19.9413, 50.059285], [19.941384, 50.059336], [19.941585, 50.059553], [19.941677, 50.059574], [19.941819, 50.059563], [19.941877, 50.059552], [19.941906, 50.059614], [19.941849, 50.059673], [19.941831, 50.059691], [19.941595, 50.05993], [19.941665, 50.059976], [19.941529, 50.060112], [19.941463, 50.060177], [19.94136, 50.060343], [19.941424, 50.060438], [19.94146, 50.060543], [19.941601, 50.060532], [19.942156, 50.060562], [19.942234, 50.060591], [19.942365, 50.060719], [19.942506, 50.060864], [19.942365, 50.060719], [19.942234, 50.060591], [19.942156, 50.060562], [19.941601, 50.060532], [19.94146, 50.060543], [19.941481, 50.060602], [19.941601, 50.060934], [19.941756, 50.061203], [19.941791, 50.061248], [19.941813, 50.061277], [19.941935, 50.061453], [19.942363, 50.062049], [19.94239, 50.062083], [19.941079, 50.062453], [19.94101, 50.062478], [19.940902, 50.062512], [19.940882, 50.062518], [19.940902, 50.062512], [19.94101, 50.062478], [19.940424, 50.061683], [19.94044, 50.061625], [19.940206, 50.061313], [19.940089, 50.061349], [19.939991, 50.061381], [19.939939, 50.061432], [19.93966, 50.061467], [19.939639, 50.061459], [19.939486, 50.061401], [19.93929, 50.061405], [19.93908, 50.06141], [19.938621, 50.061593], [19.938551, 50.061615], [19.938333, 50.061643], [19.937573, 50.061615], [19.937352, 50.061692], [19.937336, 50.061673]], &quot;type&quot;: &quot;LineString&quot;}, &quot;id&quot;: &quot;0&quot;, &quot;properties&quot;: {&quot;segments&quot;: [{&quot;distance&quot;: 142.4, &quot;duration&quot;: 102.5, &quot;steps&quot;: [{&quot;distance&quot;: 2.4, &quot;duration&quot;: 1.7, &quot;instruction&quot;: &quot;Head northeast&quot;, &quot;name&quot;: &quot;-&quot;, &quot;type&quot;: 11, &quot;way_points&quot;: [0, 1]}, {&quot;distance&quot;: 18.0, &quot;duration&quot;: 12.9, &quot;instruction&quot;: &quot;Turn right&quot;, &quot;name&quot;: &quot;-&quot;, &quot;type&quot;: 1, &quot;way_points&quot;: [1, 2]}, {&quot;distance&quot;: 64.6, &quot;duration&quot;: 46.5, &quot;instruction&quot;: &quot;Keep right&quot;, &quot;name&quot;: &quot;-&quot;, &quot;type&quot;: 13, &quot;way_points&quot;: [2, 4]}, {&quot;distance&quot;: 57.4, &quot;duration&quot;: 41.3, &quot;exit_number&quot;: 1, &quot;instruction&quot;: &quot;Enter the roundabout and take the 1st exit onto Rynek G\\u0142\\u00f3wny&quot;, &quot;name&quot;: &quot;Rynek G\\u0142\\u00f3wny&quot;, &quot;type&quot;: 7, &quot;way_points&quot;: [4, 5]}, {&quot;distance&quot;: 0.0, &quot;duration&quot;: 0.0, &quot;instruction&quot;: &quot;Arrive at Rynek G\\u0142\\u00f3wny, on the right&quot;, &quot;name&quot;: &quot;-&quot;, &quot;type&quot;: 10, &quot;way_points&quot;: [5, 5]}]}, {&quot;distance&quot;: 311.9, &quot;duration&quot;: 224.6, &quot;steps&quot;: [{&quot;distance&quot;: 203.2, &quot;duration&quot;: 146.3, &quot;instruction&quot;: &quot;Head southwest on Rynek G\\u0142\\u00f3wny&quot;, &quot;name&quot;: &quot;Rynek G\\u0142\\u00f3wny&quot;, &quot;type&quot;: 11, &quot;way_points&quot;: [5, 27]}, {&quot;distance&quot;: 108.7, &quot;duration&quot;: 78.2, &quot;instruction&quot;: &quot;Turn left onto Plac Dominika\\u0144ski&quot;, &quot;name&quot;: &quot;Plac Dominika\\u0144ski&quot;, &quot;type&quot;: 0, &quot;way_points&quot;: [27, 31]}, {&quot;distance&quot;: 0.0, &quot;duration&quot;: 0.0, &quot;instruction&quot;: &quot;Arrive at Plac Dominika\\u0144ski, on the left&quot;, &quot;name&quot;: &quot;-&quot;, &quot;type&quot;: 10, &quot;way_points&quot;: [31, 31]}]}, {&quot;distance&quot;: 223.7, &quot;duration&quot;: 161.0, &quot;steps&quot;: [{&quot;distance&quot;: 75.0, &quot;duration&quot;: 54.0, &quot;instruction&quot;: &quot;Head east on Dominika\\u0144ska&quot;, &quot;name&quot;: &quot;Dominika\\u0144ska&quot;, &quot;type&quot;: 11, &quot;way_points&quot;: [31, 33]}, {&quot;distance&quot;: 10.4, &quot;duration&quot;: 7.5, &quot;instruction&quot;: &quot;Turn left&quot;, &quot;name&quot;: &quot;-&quot;, &quot;type&quot;: 0, &quot;way_points&quot;: [33, 35]}, {&quot;distance&quot;: 120.9, &quot;duration&quot;: 87.1, &quot;instruction&quot;: &quot;Turn right&quot;, &quot;name&quot;: &quot;-&quot;, &quot;type&quot;: 1, &quot;way_points&quot;: [35, 42]}, {&quot;distance&quot;: 17.4, &quot;duration&quot;: 12.5, &quot;instruction&quot;: &quot;Turn left&quot;, &quot;name&quot;: &quot;-&quot;, &quot;type&quot;: 0, &quot;way_points&quot;: [42, 45]}, {&quot;distance&quot;: 0.0, &quot;duration&quot;: 0.0, &quot;instruction&quot;: &quot;Arrive at your destination, on the left&quot;, &quot;name&quot;: &quot;-&quot;, &quot;type&quot;: 10, &quot;way_points&quot;: [45, 45]}]}, {&quot;distance&quot;: 200.9, &quot;duration&quot;: 144.7, &quot;steps&quot;: [{&quot;distance&quot;: 31.4, &quot;duration&quot;: 22.6, &quot;instruction&quot;: &quot;Head northwest&quot;, &quot;name&quot;: &quot;-&quot;, &quot;type&quot;: 11, &quot;way_points&quot;: [45, 46]}, {&quot;distance&quot;: 7.2, &quot;duration&quot;: 5.2, &quot;instruction&quot;: &quot;Turn right&quot;, &quot;name&quot;: &quot;-&quot;, &quot;type&quot;: 1, &quot;way_points&quot;: [46, 47]}, {&quot;distance&quot;: 46.4, &quot;duration&quot;: 33.4, &quot;instruction&quot;: &quot;Turn left onto Sienna&quot;, &quot;name&quot;: &quot;Sienna&quot;, &quot;type&quot;: 0, &quot;way_points&quot;: [47, 50]}, {&quot;distance&quot;: 23.5, &quot;duration&quot;: 17.0, &quot;instruction&quot;: &quot;Keep right onto \\u015awi\\u0119tego Krzy\\u017ca&quot;, &quot;name&quot;: &quot;\\u015awi\\u0119tego Krzy\\u017ca&quot;, &quot;type&quot;: 13, &quot;way_points&quot;: [50, 52]}, {&quot;distance&quot;: 92.4, &quot;duration&quot;: 66.5, &quot;instruction&quot;: &quot;Turn right onto Na Gr\\u00f3dku&quot;, &quot;name&quot;: &quot;Na Gr\\u00f3dku&quot;, &quot;type&quot;: 1, &quot;way_points&quot;: [52, 57]}, {&quot;distance&quot;: 0.0, &quot;duration&quot;: 0.0, &quot;instruction&quot;: &quot;Arrive at Na Gr\\u00f3dku, on the left&quot;, &quot;name&quot;: &quot;-&quot;, &quot;type&quot;: 10, &quot;way_points&quot;: [57, 57]}]}, {&quot;distance&quot;: 394.7, &quot;duration&quot;: 284.2, &quot;steps&quot;: [{&quot;distance&quot;: 92.4, &quot;duration&quot;: 66.5, &quot;instruction&quot;: &quot;Head southwest on Na Gr\\u00f3dku&quot;, &quot;name&quot;: &quot;Na Gr\\u00f3dku&quot;, &quot;type&quot;: 11, &quot;way_points&quot;: [57, 62]}, {&quot;distance&quot;: 85.7, &quot;duration&quot;: 61.7, &quot;instruction&quot;: &quot;Turn right onto \\u015awi\\u0119tego Krzy\\u017ca&quot;, &quot;name&quot;: &quot;\\u015awi\\u0119tego Krzy\\u017ca&quot;, &quot;type&quot;: 1, &quot;way_points&quot;: [62, 67]}, {&quot;distance&quot;: 98.6, &quot;duration&quot;: 71.0, &quot;instruction&quot;: &quot;Continue straight onto \\u015awi\\u0119tego Krzy\\u017ca&quot;, &quot;name&quot;: &quot;\\u015awi\\u0119tego Krzy\\u017ca&quot;, &quot;type&quot;: 6, &quot;way_points&quot;: [67, 70]}, {&quot;distance&quot;: 118.1, &quot;duration&quot;: 85.0, &quot;instruction&quot;: &quot;Turn left onto \\u015awi\\u0119tego Tomasza&quot;, &quot;name&quot;: &quot;\\u015awi\\u0119tego Tomasza&quot;, &quot;type&quot;: 0, &quot;way_points&quot;: [70, 74]}, {&quot;distance&quot;: 0.0, &quot;duration&quot;: 0.0, &quot;instruction&quot;: &quot;Arrive at \\u015awi\\u0119tego Tomasza, on the left&quot;, &quot;name&quot;: &quot;-&quot;, &quot;type&quot;: 10, &quot;way_points&quot;: [74, 74]}]}, {&quot;distance&quot;: 170.1, &quot;duration&quot;: 122.5, &quot;steps&quot;: [{&quot;distance&quot;: 10.2, &quot;duration&quot;: 7.3, &quot;instruction&quot;: &quot;Head southeast on \\u015awi\\u0119tego Tomasza&quot;, &quot;name&quot;: &quot;\\u015awi\\u0119tego Tomasza&quot;, &quot;type&quot;: 11, &quot;way_points&quot;: [74, 76]}, {&quot;distance&quot;: 97.8, &quot;duration&quot;: 70.4, &quot;instruction&quot;: &quot;Turn right onto Szpitalna&quot;, &quot;name&quot;: &quot;Szpitalna&quot;, &quot;type&quot;: 1, &quot;way_points&quot;: [76, 77]}, {&quot;distance&quot;: 6.5, &quot;duration&quot;: 4.7, &quot;instruction&quot;: &quot;Turn slight left onto Ma\\u0142y Rynek&quot;, &quot;name&quot;: &quot;Ma\\u0142y Rynek&quot;, &quot;type&quot;: 4, &quot;way_points&quot;: [77, 78]}, {&quot;distance&quot;: 38.5, &quot;duration&quot;: 27.7, &quot;instruction&quot;: &quot;Turn slight right onto Ma\\u0142y Rynek&quot;, &quot;name&quot;: &quot;Ma\\u0142y Rynek&quot;, &quot;type&quot;: 5, &quot;way_points&quot;: [78, 79]}, {&quot;distance&quot;: 9.3, &quot;duration&quot;: 6.7, &quot;instruction&quot;: &quot;Turn right onto Ma\\u0142y Rynek&quot;, &quot;name&quot;: &quot;Ma\\u0142y Rynek&quot;, &quot;type&quot;: 1, &quot;way_points&quot;: [79, 80]}, {&quot;distance&quot;: 7.8, &quot;duration&quot;: 5.6, &quot;instruction&quot;: &quot;Continue straight&quot;, &quot;name&quot;: &quot;-&quot;, &quot;type&quot;: 6, &quot;way_points&quot;: [80, 81]}, {&quot;distance&quot;: 0.0, &quot;duration&quot;: 0.0, &quot;instruction&quot;: &quot;Arrive at your destination, on the left&quot;, &quot;name&quot;: &quot;-&quot;, &quot;type&quot;: 10, &quot;way_points&quot;: [81, 81]}]}, {&quot;distance&quot;: 29.0, &quot;duration&quot;: 20.9, &quot;steps&quot;: [{&quot;distance&quot;: 6.8, &quot;duration&quot;: 4.9, &quot;instruction&quot;: &quot;Head northwest on Plac Mariacki&quot;, &quot;name&quot;: &quot;Plac Mariacki&quot;, &quot;type&quot;: 11, &quot;way_points&quot;: [81, 82]}, {&quot;distance&quot;: 22.1, &quot;duration&quot;: 15.9, &quot;instruction&quot;: &quot;Turn left onto Plac Mariacki&quot;, &quot;name&quot;: &quot;Plac Mariacki&quot;, &quot;type&quot;: 0, &quot;way_points&quot;: [82, 84]}, {&quot;distance&quot;: 0.0, &quot;duration&quot;: 0.0, &quot;instruction&quot;: &quot;Arrive at Plac Mariacki, on the right&quot;, &quot;name&quot;: &quot;-&quot;, &quot;type&quot;: 10, &quot;way_points&quot;: [84, 84]}]}, {&quot;distance&quot;: 26.7, &quot;duration&quot;: 19.2, &quot;steps&quot;: [{&quot;distance&quot;: 26.7, &quot;duration&quot;: 19.2, &quot;instruction&quot;: &quot;Head southwest on Plac Mariacki&quot;, &quot;name&quot;: &quot;Plac Mariacki&quot;, &quot;type&quot;: 11, &quot;way_points&quot;: [84, 86]}, {&quot;distance&quot;: 0.0, &quot;duration&quot;: 0.0, &quot;instruction&quot;: &quot;Arrive at Plac Mariacki, on the right&quot;, &quot;name&quot;: &quot;-&quot;, &quot;type&quot;: 10, &quot;way_points&quot;: [86, 86]}]}, {&quot;distance&quot;: 149.8, &quot;duration&quot;: 107.8, &quot;steps&quot;: [{&quot;distance&quot;: 129.4, &quot;duration&quot;: 93.2, &quot;instruction&quot;: &quot;Head west on Plac Mariacki&quot;, &quot;name&quot;: &quot;Plac Mariacki&quot;, &quot;type&quot;: 11, &quot;way_points&quot;: [86, 91]}, {&quot;distance&quot;: 18.0, &quot;duration&quot;: 12.9, &quot;instruction&quot;: &quot;Turn slight right&quot;, &quot;name&quot;: &quot;-&quot;, &quot;type&quot;: 5, &quot;way_points&quot;: [91, 92]}, {&quot;distance&quot;: 2.4, &quot;duration&quot;: 1.7, &quot;instruction&quot;: &quot;Turn left&quot;, &quot;name&quot;: &quot;-&quot;, &quot;type&quot;: 0, &quot;way_points&quot;: [92, 93]}, {&quot;distance&quot;: 0.0, &quot;duration&quot;: 0.0, &quot;instruction&quot;: &quot;Arrive at your destination, straight ahead&quot;, &quot;name&quot;: &quot;-&quot;, &quot;type&quot;: 10, &quot;way_points&quot;: [93, 93]}]}], &quot;summary&quot;: {&quot;distance&quot;: 1649.2, &quot;duration&quot;: 1187.4}, &quot;way_points&quot;: [0, 5, 31, 45, 57, 74, 81, 84, 86, 93]}, &quot;type&quot;: &quot;Feature&quot;}], &quot;metadata&quot;: {&quot;attribution&quot;: &quot;openrouteservice.org | OpenStreetMap contributors&quot;, &quot;engine&quot;: {&quot;build_date&quot;: &quot;2022-02-18T19:37:41Z&quot;, &quot;graph_date&quot;: &quot;2022-05-03T06:30:15Z&quot;, &quot;version&quot;: &quot;6.7.0&quot;}, &quot;query&quot;: {&quot;coordinates&quot;: [[19.937343, 50.061671], [19.937767, 50.060895], [19.939392, 50.059279], [19.941798, 50.059678], [19.942309, 50.060943], [19.940842, 50.062467], [19.939879, 50.061317], [19.939471, 50.06164], [19.939288, 50.061367], [19.937343, 50.061671]], &quot;format&quot;: &quot;geojson&quot;, &quot;geometry&quot;: true, &quot;profile&quot;: &quot;foot-walking&quot;}, &quot;service&quot;: &quot;routing&quot;, &quot;timestamp&quot;: 1652527212806}, &quot;type&quot;: &quot;FeatureCollection&quot;});\n\n        \n    \n            var layer_control_2a3b18ee15787cd29bf995c84bda6a0d = {\n                base_layers : {\n                    &quot;openstreetmap&quot; : tile_layer_5ca0761e682cdae7a71130f5bc43592f,\n                },\n                overlays :  {\n                    &quot;Your perfect route&quot; : geo_json_8fe51fad89d55a9419082021a1282cb1,\n                },\n            };\n            L.control.layers(\n                layer_control_2a3b18ee15787cd29bf995c84bda6a0d.base_layers,\n                layer_control_2a3b18ee15787cd29bf995c84bda6a0d.overlays,\n                {&quot;autoZIndex&quot;: true, &quot;collapsed&quot;: true, &quot;position&quot;: &quot;topright&quot;}\n            ).addTo(map_cd7fe15726f78b144b1a1a08b1ec5076);\n        \n&lt;/script&gt;\" style=\"position:absolute;width:100%;height:100%;left:0;top:0;border:none !important;\" allowfullscreen webkitallowfullscreen mozallowfullscreen></iframe></div></div>"
     },
     "execution_count": 14,
     "metadata": {},
     "output_type": "execute_result"
    }
   ],
   "source": [
    "def style_function(color):\n",
    "    return lambda feature: dict(color=color,\n",
    "                                weight=5,\n",
    "                                opacity=1)\n",
    "\n",
    "# And now the optimal route\n",
    "request = {'coordinates': optimal_coords,\n",
    "           'profile': 'foot-walking',\n",
    "           'geometry': 'true',\n",
    "           'format_out': 'geojson',\n",
    "           #            'instructions': 'false'\n",
    "           }\n",
    "optimal_route = ors.directions(**request)\n",
    "folium.features.GeoJson(data=optimal_route,\n",
    "                        name='Your perfect route',\n",
    "                        style_function=style_function('#27ce49'),\n",
    "                        overlay=True).add_to(m)\n",
    "\n",
    "m.add_child(folium.map.LayerControl())\n",
    "m"
   ]
  },
  {
   "cell_type": "code",
   "execution_count": null,
   "metadata": {
    "pycharm": {
     "name": "#%%\n"
    }
   },
   "outputs": [],
   "source": [
    "optimal_duration = optimal_route['features'][0]['properties']['summary']['duration'] / 60\n",
    "\n",
    "print(\"Duration optimal route: {0:.3f} mins\".format(optimal_duration))"
   ]
  },
  {
   "cell_type": "markdown",
   "metadata": {
    "pycharm": {
     "name": "#%% md\n"
    }
   },
   "source": []
  }
 ],
 "metadata": {
  "jupytext": {
   "encoding": "# -*- coding: utf-8 -*-",
   "formats": "ipynb,py:light"
  },
  "kernelspec": {
   "display_name": "Python 3",
   "language": "python",
   "name": "python3"
  },
  "language_info": {
   "codemirror_mode": {
    "name": "ipython",
    "version": 3
   },
   "file_extension": ".py",
   "mimetype": "text/x-python",
   "name": "python",
   "nbconvert_exporter": "python",
   "pygments_lexer": "ipython3",
   "version": "3.9.9"
  }
 },
 "nbformat": 4,
 "nbformat_minor": 2
}